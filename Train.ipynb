{
 "cells": [
  {
   "cell_type": "code",
   "execution_count": 43,
   "id": "59ab16fe-9978-40aa-a986-9290b7f7196d",
   "metadata": {},
   "outputs": [],
   "source": [
    "import pickle"
   ]
  },
  {
   "cell_type": "code",
   "execution_count": 44,
   "id": "17d031c4-6d9d-4882-9a5f-0f52c6bf84e0",
   "metadata": {},
   "outputs": [],
   "source": [
    "X = pickle.load(open('X.pkl', 'rb'))\n",
    "Y = pickle.load(open('Y.pkl', 'rb'))"
   ]
  },
  {
   "cell_type": "code",
   "execution_count": 45,
   "id": "b7622811-5aa5-4910-8584-752339f2d5c3",
   "metadata": {},
   "outputs": [],
   "source": [
    "X = X/255"
   ]
  },
  {
   "cell_type": "code",
   "execution_count": 46,
   "id": "55a146fe-4fff-4ef6-b8e5-d799dbb446fa",
   "metadata": {},
   "outputs": [],
   "source": [
    "X = X.reshape(-1, 224, 224, 1)"
   ]
  },
  {
   "cell_type": "code",
   "execution_count": 47,
   "id": "07ea4dae-1b12-4b7c-9970-afb306c54bf4",
   "metadata": {},
   "outputs": [],
   "source": [
    "from keras.models import Sequential\n",
    "from keras.layers import Conv2D, MaxPooling2D, Flatten, Dense"
   ]
  },
  {
   "cell_type": "code",
   "execution_count": 48,
   "id": "c04e0860-d156-4e60-9844-16a15e0262b2",
   "metadata": {},
   "outputs": [],
   "source": [
    "model = Sequential()\n",
    "\n",
    "model.add(Conv2D(64, (3,3), activation = 'relu'))\n",
    "model.add(MaxPooling2D((2, 2)))\n",
    "model.add(Conv2D(64, (3,3), activation = 'relu'))\n",
    "model.add(MaxPooling2D((2, 2)))\n",
    "\n",
    "model.add(Flatten())\n",
    "model.add(Dense(128, input_shape = X.shape[1:], activation = 'relu'))\n",
    "model.add(Dense(2, activation = 'softmax'))"
   ]
  },
  {
   "cell_type": "code",
   "execution_count": 49,
   "id": "c42e1f27-cb1a-47ac-b142-d7ecf4ba4d71",
   "metadata": {},
   "outputs": [],
   "source": [
    "model.compile(optimizer = 'adam', loss = 'sparse_categorical_crossentropy', metrics = ['accuracy'])"
   ]
  },
  {
   "cell_type": "code",
   "execution_count": 50,
   "id": "42de0740-9534-4447-ae5b-cba760b12d85",
   "metadata": {},
   "outputs": [
    {
     "name": "stdout",
     "output_type": "stream",
     "text": [
      "Epoch 1/5\n",
      "31/31 [==============================] - 33s 1s/step - loss: 2.0337 - accuracy: 0.5078 - val_loss: 0.6925 - val_accuracy: 0.5182\n",
      "Epoch 2/5\n",
      "31/31 [==============================] - 31s 1s/step - loss: 0.6879 - accuracy: 0.5856 - val_loss: 0.6936 - val_accuracy: 0.5091\n",
      "Epoch 3/5\n",
      "31/31 [==============================] - 32s 1s/step - loss: 0.6640 - accuracy: 0.6574 - val_loss: 0.7052 - val_accuracy: 0.6182\n",
      "Epoch 4/5\n",
      "31/31 [==============================] - 31s 1s/step - loss: 0.4620 - accuracy: 0.8177 - val_loss: 0.8041 - val_accuracy: 0.5727\n",
      "Epoch 5/5\n",
      "31/31 [==============================] - 31s 997ms/step - loss: 0.2642 - accuracy: 0.9093 - val_loss: 0.9090 - val_accuracy: 0.5545\n"
     ]
    },
    {
     "data": {
      "text/plain": [
       "<keras.callbacks.History at 0x1b9424e5d90>"
      ]
     },
     "execution_count": 50,
     "metadata": {},
     "output_type": "execute_result"
    }
   ],
   "source": [
    "model.fit(X, Y, epochs = 5, batch_size = 32, validation_split = 0.1)"
   ]
  },
  {
   "cell_type": "code",
   "execution_count": 51,
   "id": "ef010681-63e1-4739-8962-7c4a063e4a1a",
   "metadata": {},
   "outputs": [],
   "source": [
    "model.save(\"model.h5\")"
   ]
  },
  {
   "cell_type": "code",
   "execution_count": null,
   "id": "50b9db98-14a9-4910-9227-d636a203c4e2",
   "metadata": {},
   "outputs": [],
   "source": []
  }
 ],
 "metadata": {
  "kernelspec": {
   "display_name": "Python 3 (ipykernel)",
   "language": "python",
   "name": "python3"
  },
  "language_info": {
   "codemirror_mode": {
    "name": "ipython",
    "version": 3
   },
   "file_extension": ".py",
   "mimetype": "text/x-python",
   "name": "python",
   "nbconvert_exporter": "python",
   "pygments_lexer": "ipython3",
   "version": "3.9.5"
  }
 },
 "nbformat": 4,
 "nbformat_minor": 5
}
